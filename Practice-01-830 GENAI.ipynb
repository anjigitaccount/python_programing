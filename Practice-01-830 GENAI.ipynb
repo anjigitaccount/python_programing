{
 "cells": [
  {
   "cell_type": "markdown",
   "id": "3e669a99-6065-4016-b45a-9887a93dab07",
   "metadata": {},
   "source": [
    "# 8:30 AM -- BASIC PYTHON PROGRAMMING TODAY"
   ]
  },
  {
   "cell_type": "code",
   "execution_count": 1,
   "id": "f56267b3-3367-4142-ad1a-76b85bb66701",
   "metadata": {},
   "outputs": [
    {
     "data": {
      "text/plain": [
       "'3.12.7 | packaged by Anaconda, Inc. | (main, Oct  4 2024, 13:17:27) [MSC v.1929 64 bit (AMD64)]'"
      ]
     },
     "execution_count": 1,
     "metadata": {},
     "output_type": "execute_result"
    }
   ],
   "source": [
    "import sys\n",
    "sys.version"
   ]
  },
  {
   "cell_type": "markdown",
   "id": "fea00a26-38f4-4dcd-b826-2f6962dccbe7",
   "metadata": {},
   "source": [
    "# work with numbers"
   ]
  },
  {
   "cell_type": "code",
   "execution_count": 3,
   "id": "fe2c8f02-d090-455d-81ac-79a3b0153b85",
   "metadata": {},
   "outputs": [
    {
     "data": {
      "text/plain": [
       "3"
      ]
     },
     "execution_count": 3,
     "metadata": {},
     "output_type": "execute_result"
    }
   ],
   "source": [
    "3"
   ]
  },
  {
   "cell_type": "code",
   "execution_count": 4,
   "id": "9a154458-46ee-4ea2-9a73-d172651cb4d5",
   "metadata": {},
   "outputs": [
    {
     "data": {
      "text/plain": [
       "2"
      ]
     },
     "execution_count": 4,
     "metadata": {},
     "output_type": "execute_result"
    }
   ],
   "source": [
    "2"
   ]
  },
  {
   "cell_type": "code",
   "execution_count": 5,
   "id": "3889d352-2295-4631-aaaa-0723fdb36278",
   "metadata": {},
   "outputs": [
    {
     "data": {
      "text/plain": [
       "5"
      ]
     },
     "execution_count": 5,
     "metadata": {},
     "output_type": "execute_result"
    }
   ],
   "source": [
    "3 + 2"
   ]
  },
  {
   "cell_type": "code",
   "execution_count": 8,
   "id": "82a6355a-a502-4614-8cf1-82078df0fce9",
   "metadata": {},
   "outputs": [
    {
     "data": {
      "text/plain": [
       "1"
      ]
     },
     "execution_count": 8,
     "metadata": {},
     "output_type": "execute_result"
    }
   ],
   "source": [
    "3 - 2"
   ]
  },
  {
   "cell_type": "code",
   "execution_count": 9,
   "id": "eda10c23-c0a7-4de4-96a9-e16bfbad18a7",
   "metadata": {},
   "outputs": [
    {
     "data": {
      "text/plain": [
       "6"
      ]
     },
     "execution_count": 9,
     "metadata": {},
     "output_type": "execute_result"
    }
   ],
   "source": [
    "3 * 2"
   ]
  },
  {
   "cell_type": "code",
   "execution_count": 10,
   "id": "525c4e63-5dd9-405c-9440-b89f0375125b",
   "metadata": {},
   "outputs": [
    {
     "data": {
      "text/plain": [
       "9"
      ]
     },
     "execution_count": 10,
     "metadata": {},
     "output_type": "execute_result"
    }
   ],
   "source": [
    "3 ** 2"
   ]
  },
  {
   "cell_type": "code",
   "execution_count": 11,
   "id": "59478db9-3bbe-4e37-9ec2-35b3af3b4c2e",
   "metadata": {},
   "outputs": [
    {
     "data": {
      "text/plain": [
       "2.0"
      ]
     },
     "execution_count": 11,
     "metadata": {},
     "output_type": "execute_result"
    }
   ],
   "source": [
    "10 / 5"
   ]
  },
  {
   "cell_type": "code",
   "execution_count": 12,
   "id": "fca4b607-40a9-44db-8c1e-3b13b476d1db",
   "metadata": {},
   "outputs": [
    {
     "data": {
      "text/plain": [
       "2"
      ]
     },
     "execution_count": 12,
     "metadata": {},
     "output_type": "execute_result"
    }
   ],
   "source": [
    "10 //5"
   ]
  },
  {
   "cell_type": "markdown",
   "id": "e7d2d154-5e57-4a80-92b0-7365a9f37270",
   "metadata": {},
   "source": [
    "# work with string "
   ]
  },
  {
   "cell_type": "code",
   "execution_count": 15,
   "id": "e6a14bb2-4fad-4c2e-9789-797fc617974b",
   "metadata": {},
   "outputs": [
    {
     "data": {
      "text/plain": [
       "'Myit'"
      ]
     },
     "execution_count": 15,
     "metadata": {},
     "output_type": "execute_result"
    }
   ],
   "source": [
    "'Myit'"
   ]
  },
  {
   "cell_type": "code",
   "execution_count": 16,
   "id": "3e3c2581-26a8-4cb5-a83d-ebc8c88ef761",
   "metadata": {},
   "outputs": [
    {
     "data": {
      "text/plain": [
       "'Myit'"
      ]
     },
     "execution_count": 16,
     "metadata": {},
     "output_type": "execute_result"
    }
   ],
   "source": [
    "\"Myit\""
   ]
  },
  {
   "cell_type": "code",
   "execution_count": 19,
   "id": "68b2c080-a09d-4012-a895-4ad0a29232ad",
   "metadata": {},
   "outputs": [
    {
     "data": {
      "text/plain": [
       "'Myit\\n    test'"
      ]
     },
     "execution_count": 19,
     "metadata": {},
     "output_type": "execute_result"
    }
   ],
   "source": [
    "'''Myit\n",
    "    test'''"
   ]
  },
  {
   "cell_type": "markdown",
   "id": "d25fc809-081f-4dab-9231-96d46a7489e4",
   "metadata": {},
   "source": [
    "# variable = object "
   ]
  },
  {
   "cell_type": "code",
   "execution_count": 20,
   "id": "4126051b-4091-4f00-a037-e3d0fed5cbba",
   "metadata": {},
   "outputs": [
    {
     "data": {
      "text/plain": [
       "5"
      ]
     },
     "execution_count": 20,
     "metadata": {},
     "output_type": "execute_result"
    }
   ],
   "source": [
    "v = 5 #v - variable & 5 for value \n",
    "v"
   ]
  },
  {
   "cell_type": "code",
   "execution_count": 21,
   "id": "82ef8a02-50bb-4520-ad35-5f8594a56758",
   "metadata": {},
   "outputs": [
    {
     "data": {
      "text/plain": [
       "int"
      ]
     },
     "execution_count": 21,
     "metadata": {},
     "output_type": "execute_result"
    }
   ],
   "source": [
    "type(v)"
   ]
  },
  {
   "cell_type": "code",
   "execution_count": 24,
   "id": "3b2330bd-a04c-49fd-bc65-0133c51e5c9d",
   "metadata": {},
   "outputs": [
    {
     "data": {
      "text/plain": [
       "'Mit'"
      ]
     },
     "execution_count": 24,
     "metadata": {},
     "output_type": "execute_result"
    }
   ],
   "source": [
    "v1 = 'Mit'\n",
    "v1"
   ]
  },
  {
   "cell_type": "code",
   "execution_count": 26,
   "id": "d34b862d-cec8-49ad-b29c-6dfdc471aede",
   "metadata": {},
   "outputs": [
    {
     "data": {
      "text/plain": [
       "str"
      ]
     },
     "execution_count": 26,
     "metadata": {},
     "output_type": "execute_result"
    }
   ],
   "source": [
    "type(v1)"
   ]
  },
  {
   "cell_type": "markdown",
   "id": "68a17fdc-1be0-44d4-9965-d62454409986",
   "metadata": {},
   "source": [
    "# 26 Th"
   ]
  },
  {
   "cell_type": "code",
   "execution_count": 29,
   "id": "0d48ff71-0430-4f79-bc56-b34478cd7b60",
   "metadata": {},
   "outputs": [
    {
     "data": {
      "text/plain": [
       "float"
      ]
     },
     "execution_count": 29,
     "metadata": {},
     "output_type": "execute_result"
    }
   ],
   "source": [
    "a = 5.5\n",
    "type(a)"
   ]
  },
  {
   "cell_type": "code",
   "execution_count": null,
   "id": "70c42c73-38d4-4b26-b337-11001061e9a6",
   "metadata": {},
   "outputs": [],
   "source": []
  },
  {
   "cell_type": "code",
   "execution_count": null,
   "id": "4f118a8d-f845-449d-b39e-4d0ad8a88726",
   "metadata": {},
   "outputs": [],
   "source": []
  },
  {
   "cell_type": "code",
   "execution_count": null,
   "id": "aff9d074-906a-4ec8-b306-f659873259fb",
   "metadata": {},
   "outputs": [],
   "source": []
  },
  {
   "cell_type": "code",
   "execution_count": null,
   "id": "b2cc8f21-c651-46ca-aeb5-d6a8950b7830",
   "metadata": {},
   "outputs": [],
   "source": []
  },
  {
   "cell_type": "code",
   "execution_count": null,
   "id": "8a828808-b50d-4e2c-ad79-82cf72c7bf9c",
   "metadata": {},
   "outputs": [],
   "source": []
  },
  {
   "cell_type": "code",
   "execution_count": null,
   "id": "6aed4b29-aa00-4822-901c-793f83e29df7",
   "metadata": {},
   "outputs": [],
   "source": []
  }
 ],
 "metadata": {
  "kernelspec": {
   "display_name": "Python [conda env:base] *",
   "language": "python",
   "name": "conda-base-py"
  },
  "language_info": {
   "codemirror_mode": {
    "name": "ipython",
    "version": 3
   },
   "file_extension": ".py",
   "mimetype": "text/x-python",
   "name": "python",
   "nbconvert_exporter": "python",
   "pygments_lexer": "ipython3",
   "version": "3.12.7"
  }
 },
 "nbformat": 4,
 "nbformat_minor": 5
}
